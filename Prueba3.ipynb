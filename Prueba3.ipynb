{
 "cells": [
  {
   "cell_type": "code",
   "execution_count": 2,
   "id": "cdf424ff",
   "metadata": {},
   "outputs": [
    {
     "name": "stdout",
     "output_type": "stream",
     "text": [
      "El factorial es 5 es 120\n"
     ]
    }
   ],
   "source": [
    "def factorial(num): \n",
    "    if num < 0: \n",
    "        print(\"El factorial de un numero negativo no existe\")\n",
    "\n",
    "    elif num == 0: \n",
    "        return 1\n",
    "        \n",
    "    else: \n",
    "        fact = 1\n",
    "        while(num > 1): \n",
    "            fact *= num \n",
    "            num -= 1\n",
    "        return fact \n",
    "\n",
    "num = 5; \n",
    "\n",
    "print(\"El factorial es\",num,\"es\", factorial(num))"
   ]
  },
  {
   "cell_type": "code",
   "execution_count": null,
   "id": "5f5e382a",
   "metadata": {},
   "outputs": [],
   "source": []
  }
 ],
 "metadata": {
  "kernelspec": {
   "display_name": "Python 3 (ipykernel)",
   "language": "python",
   "name": "python3"
  },
  "language_info": {
   "codemirror_mode": {
    "name": "ipython",
    "version": 3
   },
   "file_extension": ".py",
   "mimetype": "text/x-python",
   "name": "python",
   "nbconvert_exporter": "python",
   "pygments_lexer": "ipython3",
   "version": "3.9.12"
  }
 },
 "nbformat": 4,
 "nbformat_minor": 5
}
